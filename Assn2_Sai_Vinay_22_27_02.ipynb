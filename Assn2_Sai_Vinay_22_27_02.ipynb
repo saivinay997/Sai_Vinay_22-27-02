{
  "cells": [
    {
      "cell_type": "code",
      "execution_count": 2,
      "metadata": {
        "id": "F_nSogw4j6OB"
      },
      "outputs": [],
      "source": [
        "#importing necessary libraries\n",
        "import pandas as pd\n",
        "import numpy as np"
      ]
    },
    {
      "cell_type": "markdown",
      "metadata": {
        "id": "gdoV1h_SjxWE"
      },
      "source": [
        "###1. Read the housingdata.csv file into pandas DataFrame and display first six rows of the\n",
        "DataFrame"
      ]
    },
    {
      "cell_type": "code",
      "execution_count": 3,
      "metadata": {
        "colab": {
          "base_uri": "https://localhost:8080/",
          "height": 328
        },
        "id": "pL8-wkkV6EAs",
        "outputId": "34533760-c046-4925-a95c-dca5746b0269"
      },
      "outputs": [
        {
          "data": {
            "text/html": [
              "<div>\n",
              "<style scoped>\n",
              "    .dataframe tbody tr th:only-of-type {\n",
              "        vertical-align: middle;\n",
              "    }\n",
              "\n",
              "    .dataframe tbody tr th {\n",
              "        vertical-align: top;\n",
              "    }\n",
              "\n",
              "    .dataframe thead th {\n",
              "        text-align: right;\n",
              "    }\n",
              "</style>\n",
              "<table border=\"1\" class=\"dataframe\">\n",
              "  <thead>\n",
              "    <tr style=\"text-align: right;\">\n",
              "      <th></th>\n",
              "      <th>PID</th>\n",
              "      <th>STATE</th>\n",
              "      <th>PRICE</th>\n",
              "      <th>NUM_BEDROOMS</th>\n",
              "      <th>NUM_BATH</th>\n",
              "      <th>SQ_FT</th>\n",
              "    </tr>\n",
              "  </thead>\n",
              "  <tbody>\n",
              "    <tr>\n",
              "      <th>0</th>\n",
              "      <td>100001000.0</td>\n",
              "      <td>MP</td>\n",
              "      <td>321654</td>\n",
              "      <td>3</td>\n",
              "      <td>1</td>\n",
              "      <td>1000</td>\n",
              "    </tr>\n",
              "    <tr>\n",
              "      <th>1</th>\n",
              "      <td>100002000.0</td>\n",
              "      <td>MAHARASHTRA</td>\n",
              "      <td>21325</td>\n",
              "      <td>3</td>\n",
              "      <td>1.5</td>\n",
              "      <td>--</td>\n",
              "    </tr>\n",
              "    <tr>\n",
              "      <th>2</th>\n",
              "      <td>100003000.0</td>\n",
              "      <td>AP</td>\n",
              "      <td>2541654</td>\n",
              "      <td>NaN</td>\n",
              "      <td>1</td>\n",
              "      <td>850</td>\n",
              "    </tr>\n",
              "    <tr>\n",
              "      <th>3</th>\n",
              "      <td>100004000.0</td>\n",
              "      <td>TN</td>\n",
              "      <td>321321</td>\n",
              "      <td>1</td>\n",
              "      <td>NaN</td>\n",
              "      <td>700</td>\n",
              "    </tr>\n",
              "    <tr>\n",
              "      <th>4</th>\n",
              "      <td>NaN</td>\n",
              "      <td>TN</td>\n",
              "      <td>589465645</td>\n",
              "      <td>3</td>\n",
              "      <td>2</td>\n",
              "      <td>1600</td>\n",
              "    </tr>\n",
              "    <tr>\n",
              "      <th>5</th>\n",
              "      <td>100006000.0</td>\n",
              "      <td>TN</td>\n",
              "      <td>65465466</td>\n",
              "      <td>NaN</td>\n",
              "      <td>1</td>\n",
              "      <td>800</td>\n",
              "    </tr>\n",
              "  </tbody>\n",
              "</table>\n",
              "</div>"
            ],
            "text/plain": [
              "           PID        STATE      PRICE NUM_BEDROOMS NUM_BATH SQ_FT\n",
              "0  100001000.0           MP     321654            3        1  1000\n",
              "1  100002000.0  MAHARASHTRA      21325            3      1.5    --\n",
              "2  100003000.0           AP    2541654          NaN        1   850\n",
              "3  100004000.0           TN     321321            1      NaN   700\n",
              "4          NaN           TN  589465645            3        2  1600\n",
              "5  100006000.0           TN   65465466          NaN        1   800"
            ]
          },
          "execution_count": 3,
          "metadata": {},
          "output_type": "execute_result"
        }
      ],
      "source": [
        "df = pd.read_csv('D:\\DIAT\\\\2nd Sem\\DSTT\\Assignments\\housingdata.csv')\n",
        "df.head(6)"
      ]
    },
    {
      "cell_type": "markdown",
      "metadata": {
        "id": "W4V1PzUvkfM4"
      },
      "source": [
        "###2. Display the column names and row index in separate cells."
      ]
    },
    {
      "cell_type": "code",
      "execution_count": 4,
      "metadata": {
        "id": "TeSiuGWKvX3T"
      },
      "outputs": [],
      "source": [
        "cols_list= df.columns.values.tolist()"
      ]
    },
    {
      "cell_type": "code",
      "execution_count": 5,
      "metadata": {
        "id": "6yGCSssqvd93"
      },
      "outputs": [
        {
          "name": "stdout",
          "output_type": "stream",
          "text": [
            "Columns names are: \n",
            "PID\n",
            "STATE\n",
            "PRICE\n",
            "NUM_BEDROOMS\n",
            "NUM_BATH\n",
            "SQ_FT\n"
          ]
        }
      ],
      "source": [
        "print(\"Columns names are: \")\n",
        "for col in cols_list:\n",
        "  print(col)"
      ]
    },
    {
      "cell_type": "code",
      "execution_count": 6,
      "metadata": {
        "colab": {
          "base_uri": "https://localhost:8080/",
          "height": 165
        },
        "id": "zIzQzFmpxsIa",
        "outputId": "666b6a36-fe8c-42da-8025-c859ecbabd2d"
      },
      "outputs": [
        {
          "data": {
            "text/plain": [
              "array([0, 1, 2, 3, 4, 5, 6, 7, 8], dtype=int64)"
            ]
          },
          "execution_count": 6,
          "metadata": {},
          "output_type": "execute_result"
        }
      ],
      "source": [
        "df.index.values"
      ]
    },
    {
      "cell_type": "markdown",
      "metadata": {
        "id": "lX3jKSCz11ew"
      },
      "source": [
        "###3. a) How many numbers of “STATE” exist in the dataset. Hint: use shape\n"
      ]
    },
    {
      "cell_type": "code",
      "execution_count": 7,
      "metadata": {
        "id": "jJF9lovY1Naz"
      },
      "outputs": [
        {
          "name": "stdout",
          "output_type": "stream",
          "text": [
            "<class 'pandas.core.frame.DataFrame'>\n",
            "RangeIndex: 9 entries, 0 to 8\n",
            "Data columns (total 6 columns):\n",
            " #   Column        Non-Null Count  Dtype  \n",
            "---  ------        --------------  -----  \n",
            " 0   PID           8 non-null      float64\n",
            " 1   STATE         9 non-null      object \n",
            " 2   PRICE         9 non-null      int64  \n",
            " 3   NUM_BEDROOMS  7 non-null      object \n",
            " 4   NUM_BATH      8 non-null      object \n",
            " 5   SQ_FT         8 non-null      object \n",
            "dtypes: float64(1), int64(1), object(4)\n",
            "memory usage: 560.0+ bytes\n"
          ]
        }
      ],
      "source": [
        "df.info()"
      ]
    },
    {
      "cell_type": "code",
      "execution_count": 8,
      "metadata": {
        "id": "Aj42PFul2vR4"
      },
      "outputs": [
        {
          "data": {
            "text/plain": [
              "(9, 6)"
            ]
          },
          "execution_count": 8,
          "metadata": {},
          "output_type": "execute_result"
        }
      ],
      "source": [
        "df.shape"
      ]
    },
    {
      "cell_type": "markdown",
      "metadata": {
        "id": "wJUir4D65XM8"
      },
      "source": [
        "*`From above we can see that we have 9 numbers of \"STATE\"`*"
      ]
    },
    {
      "cell_type": "markdown",
      "metadata": {
        "id": "-i49OcHyCEFf"
      },
      "source": [
        "b) How many unique states exist in the dataset"
      ]
    },
    {
      "cell_type": "code",
      "execution_count": 9,
      "metadata": {
        "id": "7S2mqVp55WxP"
      },
      "outputs": [
        {
          "data": {
            "text/plain": [
              "PID             8\n",
              "STATE           6\n",
              "PRICE           9\n",
              "NUM_BEDROOMS    4\n",
              "NUM_BATH        4\n",
              "SQ_FT           8\n",
              "dtype: int64"
            ]
          },
          "execution_count": 9,
          "metadata": {},
          "output_type": "execute_result"
        }
      ],
      "source": [
        "df.nunique()"
      ]
    },
    {
      "cell_type": "code",
      "execution_count": 10,
      "metadata": {
        "id": "XNObMKukDn7v"
      },
      "outputs": [
        {
          "data": {
            "text/plain": [
              "6"
            ]
          },
          "execution_count": 10,
          "metadata": {},
          "output_type": "execute_result"
        }
      ],
      "source": [
        "df['STATE'].nunique()"
      ]
    },
    {
      "cell_type": "markdown",
      "metadata": {
        "id": "N6EujwHvhh3p"
      },
      "source": [
        "###4. Retrieve the list of all NaN/Null/Empty cells in the form of Boolean list"
      ]
    },
    {
      "cell_type": "code",
      "execution_count": 11,
      "metadata": {
        "id": "bbqeZ5XlCupC"
      },
      "outputs": [
        {
          "data": {
            "text/html": [
              "<div>\n",
              "<style scoped>\n",
              "    .dataframe tbody tr th:only-of-type {\n",
              "        vertical-align: middle;\n",
              "    }\n",
              "\n",
              "    .dataframe tbody tr th {\n",
              "        vertical-align: top;\n",
              "    }\n",
              "\n",
              "    .dataframe thead th {\n",
              "        text-align: right;\n",
              "    }\n",
              "</style>\n",
              "<table border=\"1\" class=\"dataframe\">\n",
              "  <thead>\n",
              "    <tr style=\"text-align: right;\">\n",
              "      <th></th>\n",
              "      <th>PID</th>\n",
              "      <th>STATE</th>\n",
              "      <th>PRICE</th>\n",
              "      <th>NUM_BEDROOMS</th>\n",
              "      <th>NUM_BATH</th>\n",
              "      <th>SQ_FT</th>\n",
              "    </tr>\n",
              "  </thead>\n",
              "  <tbody>\n",
              "    <tr>\n",
              "      <th>0</th>\n",
              "      <td>100001000.0</td>\n",
              "      <td>MP</td>\n",
              "      <td>321654</td>\n",
              "      <td>3</td>\n",
              "      <td>1</td>\n",
              "      <td>1000</td>\n",
              "    </tr>\n",
              "    <tr>\n",
              "      <th>1</th>\n",
              "      <td>100002000.0</td>\n",
              "      <td>MAHARASHTRA</td>\n",
              "      <td>21325</td>\n",
              "      <td>3</td>\n",
              "      <td>1.5</td>\n",
              "      <td>--</td>\n",
              "    </tr>\n",
              "    <tr>\n",
              "      <th>2</th>\n",
              "      <td>100003000.0</td>\n",
              "      <td>AP</td>\n",
              "      <td>2541654</td>\n",
              "      <td>NaN</td>\n",
              "      <td>1</td>\n",
              "      <td>850</td>\n",
              "    </tr>\n",
              "    <tr>\n",
              "      <th>3</th>\n",
              "      <td>100004000.0</td>\n",
              "      <td>TN</td>\n",
              "      <td>321321</td>\n",
              "      <td>1</td>\n",
              "      <td>NaN</td>\n",
              "      <td>700</td>\n",
              "    </tr>\n",
              "    <tr>\n",
              "      <th>4</th>\n",
              "      <td>NaN</td>\n",
              "      <td>TN</td>\n",
              "      <td>589465645</td>\n",
              "      <td>3</td>\n",
              "      <td>2</td>\n",
              "      <td>1600</td>\n",
              "    </tr>\n",
              "    <tr>\n",
              "      <th>5</th>\n",
              "      <td>100006000.0</td>\n",
              "      <td>TN</td>\n",
              "      <td>65465466</td>\n",
              "      <td>NaN</td>\n",
              "      <td>1</td>\n",
              "      <td>800</td>\n",
              "    </tr>\n",
              "    <tr>\n",
              "      <th>6</th>\n",
              "      <td>100007000.0</td>\n",
              "      <td>ASSAM</td>\n",
              "      <td>3222321</td>\n",
              "      <td>2</td>\n",
              "      <td>HURLEY</td>\n",
              "      <td>950</td>\n",
              "    </tr>\n",
              "    <tr>\n",
              "      <th>7</th>\n",
              "      <td>100008000.0</td>\n",
              "      <td>HP</td>\n",
              "      <td>23131</td>\n",
              "      <td>1</td>\n",
              "      <td>1</td>\n",
              "      <td>NaN</td>\n",
              "    </tr>\n",
              "    <tr>\n",
              "      <th>8</th>\n",
              "      <td>100009000.0</td>\n",
              "      <td>HP</td>\n",
              "      <td>21212</td>\n",
              "      <td>na</td>\n",
              "      <td>2</td>\n",
              "      <td>1800</td>\n",
              "    </tr>\n",
              "  </tbody>\n",
              "</table>\n",
              "</div>"
            ],
            "text/plain": [
              "           PID        STATE      PRICE NUM_BEDROOMS NUM_BATH SQ_FT\n",
              "0  100001000.0           MP     321654            3        1  1000\n",
              "1  100002000.0  MAHARASHTRA      21325            3      1.5    --\n",
              "2  100003000.0           AP    2541654          NaN        1   850\n",
              "3  100004000.0           TN     321321            1      NaN   700\n",
              "4          NaN           TN  589465645            3        2  1600\n",
              "5  100006000.0           TN   65465466          NaN        1   800\n",
              "6  100007000.0        ASSAM    3222321            2   HURLEY   950\n",
              "7  100008000.0           HP      23131            1        1   NaN\n",
              "8  100009000.0           HP      21212           na        2  1800"
            ]
          },
          "execution_count": 11,
          "metadata": {},
          "output_type": "execute_result"
        }
      ],
      "source": [
        "df"
      ]
    },
    {
      "cell_type": "code",
      "execution_count": 12,
      "metadata": {
        "id": "_sBkagr8lAKJ"
      },
      "outputs": [],
      "source": [
        "df.replace('--',np.NaN, inplace=True)"
      ]
    },
    {
      "cell_type": "code",
      "execution_count": 13,
      "metadata": {
        "id": "PXX9wzQplkSJ"
      },
      "outputs": [],
      "source": [
        "df.replace('na',np.NaN, inplace=True)"
      ]
    },
    {
      "cell_type": "code",
      "execution_count": 14,
      "metadata": {
        "id": "rJQs_rg_hsaC"
      },
      "outputs": [
        {
          "data": {
            "text/html": [
              "<div>\n",
              "<style scoped>\n",
              "    .dataframe tbody tr th:only-of-type {\n",
              "        vertical-align: middle;\n",
              "    }\n",
              "\n",
              "    .dataframe tbody tr th {\n",
              "        vertical-align: top;\n",
              "    }\n",
              "\n",
              "    .dataframe thead th {\n",
              "        text-align: right;\n",
              "    }\n",
              "</style>\n",
              "<table border=\"1\" class=\"dataframe\">\n",
              "  <thead>\n",
              "    <tr style=\"text-align: right;\">\n",
              "      <th></th>\n",
              "      <th>PID</th>\n",
              "      <th>STATE</th>\n",
              "      <th>PRICE</th>\n",
              "      <th>NUM_BEDROOMS</th>\n",
              "      <th>NUM_BATH</th>\n",
              "      <th>SQ_FT</th>\n",
              "    </tr>\n",
              "  </thead>\n",
              "  <tbody>\n",
              "    <tr>\n",
              "      <th>0</th>\n",
              "      <td>False</td>\n",
              "      <td>False</td>\n",
              "      <td>False</td>\n",
              "      <td>False</td>\n",
              "      <td>False</td>\n",
              "      <td>False</td>\n",
              "    </tr>\n",
              "    <tr>\n",
              "      <th>1</th>\n",
              "      <td>False</td>\n",
              "      <td>False</td>\n",
              "      <td>False</td>\n",
              "      <td>False</td>\n",
              "      <td>False</td>\n",
              "      <td>True</td>\n",
              "    </tr>\n",
              "    <tr>\n",
              "      <th>2</th>\n",
              "      <td>False</td>\n",
              "      <td>False</td>\n",
              "      <td>False</td>\n",
              "      <td>True</td>\n",
              "      <td>False</td>\n",
              "      <td>False</td>\n",
              "    </tr>\n",
              "    <tr>\n",
              "      <th>3</th>\n",
              "      <td>False</td>\n",
              "      <td>False</td>\n",
              "      <td>False</td>\n",
              "      <td>False</td>\n",
              "      <td>True</td>\n",
              "      <td>False</td>\n",
              "    </tr>\n",
              "    <tr>\n",
              "      <th>4</th>\n",
              "      <td>True</td>\n",
              "      <td>False</td>\n",
              "      <td>False</td>\n",
              "      <td>False</td>\n",
              "      <td>False</td>\n",
              "      <td>False</td>\n",
              "    </tr>\n",
              "    <tr>\n",
              "      <th>5</th>\n",
              "      <td>False</td>\n",
              "      <td>False</td>\n",
              "      <td>False</td>\n",
              "      <td>True</td>\n",
              "      <td>False</td>\n",
              "      <td>False</td>\n",
              "    </tr>\n",
              "    <tr>\n",
              "      <th>6</th>\n",
              "      <td>False</td>\n",
              "      <td>False</td>\n",
              "      <td>False</td>\n",
              "      <td>False</td>\n",
              "      <td>False</td>\n",
              "      <td>False</td>\n",
              "    </tr>\n",
              "    <tr>\n",
              "      <th>7</th>\n",
              "      <td>False</td>\n",
              "      <td>False</td>\n",
              "      <td>False</td>\n",
              "      <td>False</td>\n",
              "      <td>False</td>\n",
              "      <td>True</td>\n",
              "    </tr>\n",
              "    <tr>\n",
              "      <th>8</th>\n",
              "      <td>False</td>\n",
              "      <td>False</td>\n",
              "      <td>False</td>\n",
              "      <td>True</td>\n",
              "      <td>False</td>\n",
              "      <td>False</td>\n",
              "    </tr>\n",
              "  </tbody>\n",
              "</table>\n",
              "</div>"
            ],
            "text/plain": [
              "     PID  STATE  PRICE  NUM_BEDROOMS  NUM_BATH  SQ_FT\n",
              "0  False  False  False         False     False  False\n",
              "1  False  False  False         False     False   True\n",
              "2  False  False  False          True     False  False\n",
              "3  False  False  False         False      True  False\n",
              "4   True  False  False         False     False  False\n",
              "5  False  False  False          True     False  False\n",
              "6  False  False  False         False     False  False\n",
              "7  False  False  False         False     False   True\n",
              "8  False  False  False          True     False  False"
            ]
          },
          "execution_count": 14,
          "metadata": {},
          "output_type": "execute_result"
        }
      ],
      "source": [
        "df.isna()"
      ]
    },
    {
      "cell_type": "markdown",
      "metadata": {
        "id": "AhhvUKhNnKwK"
      },
      "source": [
        "###5.  Drop all rows with N/A,NA,na values in Num_Bedrooms"
      ]
    },
    {
      "cell_type": "code",
      "execution_count": 15,
      "metadata": {
        "id": "DTUslvhRUXuz"
      },
      "outputs": [
        {
          "data": {
            "text/html": [
              "<div>\n",
              "<style scoped>\n",
              "    .dataframe tbody tr th:only-of-type {\n",
              "        vertical-align: middle;\n",
              "    }\n",
              "\n",
              "    .dataframe tbody tr th {\n",
              "        vertical-align: top;\n",
              "    }\n",
              "\n",
              "    .dataframe thead th {\n",
              "        text-align: right;\n",
              "    }\n",
              "</style>\n",
              "<table border=\"1\" class=\"dataframe\">\n",
              "  <thead>\n",
              "    <tr style=\"text-align: right;\">\n",
              "      <th></th>\n",
              "      <th>PID</th>\n",
              "      <th>STATE</th>\n",
              "      <th>PRICE</th>\n",
              "      <th>NUM_BEDROOMS</th>\n",
              "      <th>NUM_BATH</th>\n",
              "      <th>SQ_FT</th>\n",
              "    </tr>\n",
              "  </thead>\n",
              "  <tbody>\n",
              "    <tr>\n",
              "      <th>0</th>\n",
              "      <td>100001000.0</td>\n",
              "      <td>MP</td>\n",
              "      <td>321654</td>\n",
              "      <td>3</td>\n",
              "      <td>1</td>\n",
              "      <td>1000</td>\n",
              "    </tr>\n",
              "    <tr>\n",
              "      <th>1</th>\n",
              "      <td>100002000.0</td>\n",
              "      <td>MAHARASHTRA</td>\n",
              "      <td>21325</td>\n",
              "      <td>3</td>\n",
              "      <td>1.5</td>\n",
              "      <td>NaN</td>\n",
              "    </tr>\n",
              "    <tr>\n",
              "      <th>2</th>\n",
              "      <td>100003000.0</td>\n",
              "      <td>AP</td>\n",
              "      <td>2541654</td>\n",
              "      <td>NaN</td>\n",
              "      <td>1</td>\n",
              "      <td>850</td>\n",
              "    </tr>\n",
              "    <tr>\n",
              "      <th>3</th>\n",
              "      <td>100004000.0</td>\n",
              "      <td>TN</td>\n",
              "      <td>321321</td>\n",
              "      <td>1</td>\n",
              "      <td>NaN</td>\n",
              "      <td>700</td>\n",
              "    </tr>\n",
              "    <tr>\n",
              "      <th>4</th>\n",
              "      <td>NaN</td>\n",
              "      <td>TN</td>\n",
              "      <td>589465645</td>\n",
              "      <td>3</td>\n",
              "      <td>2</td>\n",
              "      <td>1600</td>\n",
              "    </tr>\n",
              "    <tr>\n",
              "      <th>5</th>\n",
              "      <td>100006000.0</td>\n",
              "      <td>TN</td>\n",
              "      <td>65465466</td>\n",
              "      <td>NaN</td>\n",
              "      <td>1</td>\n",
              "      <td>800</td>\n",
              "    </tr>\n",
              "    <tr>\n",
              "      <th>6</th>\n",
              "      <td>100007000.0</td>\n",
              "      <td>ASSAM</td>\n",
              "      <td>3222321</td>\n",
              "      <td>2</td>\n",
              "      <td>HURLEY</td>\n",
              "      <td>950</td>\n",
              "    </tr>\n",
              "    <tr>\n",
              "      <th>7</th>\n",
              "      <td>100008000.0</td>\n",
              "      <td>HP</td>\n",
              "      <td>23131</td>\n",
              "      <td>1</td>\n",
              "      <td>1</td>\n",
              "      <td>NaN</td>\n",
              "    </tr>\n",
              "    <tr>\n",
              "      <th>8</th>\n",
              "      <td>100009000.0</td>\n",
              "      <td>HP</td>\n",
              "      <td>21212</td>\n",
              "      <td>NaN</td>\n",
              "      <td>2</td>\n",
              "      <td>1800</td>\n",
              "    </tr>\n",
              "  </tbody>\n",
              "</table>\n",
              "</div>"
            ],
            "text/plain": [
              "           PID        STATE      PRICE NUM_BEDROOMS NUM_BATH SQ_FT\n",
              "0  100001000.0           MP     321654            3        1  1000\n",
              "1  100002000.0  MAHARASHTRA      21325            3      1.5   NaN\n",
              "2  100003000.0           AP    2541654          NaN        1   850\n",
              "3  100004000.0           TN     321321            1      NaN   700\n",
              "4          NaN           TN  589465645            3        2  1600\n",
              "5  100006000.0           TN   65465466          NaN        1   800\n",
              "6  100007000.0        ASSAM    3222321            2   HURLEY   950\n",
              "7  100008000.0           HP      23131            1        1   NaN\n",
              "8  100009000.0           HP      21212          NaN        2  1800"
            ]
          },
          "execution_count": 15,
          "metadata": {},
          "output_type": "execute_result"
        }
      ],
      "source": [
        "df"
      ]
    },
    {
      "cell_type": "code",
      "execution_count": 16,
      "metadata": {
        "id": "8p5Ls-rVUYMC"
      },
      "outputs": [],
      "source": [
        "df=df.dropna(subset='NUM_BEDROOMS')"
      ]
    },
    {
      "cell_type": "code",
      "execution_count": 17,
      "metadata": {
        "id": "3BRriAKXdOTh"
      },
      "outputs": [
        {
          "data": {
            "text/html": [
              "<div>\n",
              "<style scoped>\n",
              "    .dataframe tbody tr th:only-of-type {\n",
              "        vertical-align: middle;\n",
              "    }\n",
              "\n",
              "    .dataframe tbody tr th {\n",
              "        vertical-align: top;\n",
              "    }\n",
              "\n",
              "    .dataframe thead th {\n",
              "        text-align: right;\n",
              "    }\n",
              "</style>\n",
              "<table border=\"1\" class=\"dataframe\">\n",
              "  <thead>\n",
              "    <tr style=\"text-align: right;\">\n",
              "      <th></th>\n",
              "      <th>PID</th>\n",
              "      <th>STATE</th>\n",
              "      <th>PRICE</th>\n",
              "      <th>NUM_BEDROOMS</th>\n",
              "      <th>NUM_BATH</th>\n",
              "      <th>SQ_FT</th>\n",
              "    </tr>\n",
              "  </thead>\n",
              "  <tbody>\n",
              "    <tr>\n",
              "      <th>0</th>\n",
              "      <td>100001000.0</td>\n",
              "      <td>MP</td>\n",
              "      <td>321654</td>\n",
              "      <td>3</td>\n",
              "      <td>1</td>\n",
              "      <td>1000</td>\n",
              "    </tr>\n",
              "    <tr>\n",
              "      <th>1</th>\n",
              "      <td>100002000.0</td>\n",
              "      <td>MAHARASHTRA</td>\n",
              "      <td>21325</td>\n",
              "      <td>3</td>\n",
              "      <td>1.5</td>\n",
              "      <td>NaN</td>\n",
              "    </tr>\n",
              "    <tr>\n",
              "      <th>3</th>\n",
              "      <td>100004000.0</td>\n",
              "      <td>TN</td>\n",
              "      <td>321321</td>\n",
              "      <td>1</td>\n",
              "      <td>NaN</td>\n",
              "      <td>700</td>\n",
              "    </tr>\n",
              "    <tr>\n",
              "      <th>4</th>\n",
              "      <td>NaN</td>\n",
              "      <td>TN</td>\n",
              "      <td>589465645</td>\n",
              "      <td>3</td>\n",
              "      <td>2</td>\n",
              "      <td>1600</td>\n",
              "    </tr>\n",
              "    <tr>\n",
              "      <th>6</th>\n",
              "      <td>100007000.0</td>\n",
              "      <td>ASSAM</td>\n",
              "      <td>3222321</td>\n",
              "      <td>2</td>\n",
              "      <td>HURLEY</td>\n",
              "      <td>950</td>\n",
              "    </tr>\n",
              "    <tr>\n",
              "      <th>7</th>\n",
              "      <td>100008000.0</td>\n",
              "      <td>HP</td>\n",
              "      <td>23131</td>\n",
              "      <td>1</td>\n",
              "      <td>1</td>\n",
              "      <td>NaN</td>\n",
              "    </tr>\n",
              "  </tbody>\n",
              "</table>\n",
              "</div>"
            ],
            "text/plain": [
              "           PID        STATE      PRICE NUM_BEDROOMS NUM_BATH SQ_FT\n",
              "0  100001000.0           MP     321654            3        1  1000\n",
              "1  100002000.0  MAHARASHTRA      21325            3      1.5   NaN\n",
              "3  100004000.0           TN     321321            1      NaN   700\n",
              "4          NaN           TN  589465645            3        2  1600\n",
              "6  100007000.0        ASSAM    3222321            2   HURLEY   950\n",
              "7  100008000.0           HP      23131            1        1   NaN"
            ]
          },
          "execution_count": 17,
          "metadata": {},
          "output_type": "execute_result"
        }
      ],
      "source": [
        "df"
      ]
    },
    {
      "cell_type": "code",
      "execution_count": null,
      "metadata": {
        "id": "3wBkdiIhGn2o"
      },
      "outputs": [],
      "source": []
    },
    {
      "cell_type": "markdown",
      "metadata": {
        "id": "N1F_Bbcnd7Ny"
      },
      "source": [
        "###6. Replace the NaN and String entries in Num_Bath with previous entry"
      ]
    },
    {
      "cell_type": "code",
      "execution_count": 18,
      "metadata": {
        "id": "lOWI8hS49YM3"
      },
      "outputs": [
        {
          "name": "stderr",
          "output_type": "stream",
          "text": [
            "C:\\Users\\saivi\\AppData\\Local\\Temp\\ipykernel_6528\\1691960301.py:1: SettingWithCopyWarning: \n",
            "A value is trying to be set on a copy of a slice from a DataFrame.\n",
            "Try using .loc[row_indexer,col_indexer] = value instead\n",
            "\n",
            "See the caveats in the documentation: https://pandas.pydata.org/pandas-docs/stable/user_guide/indexing.html#returning-a-view-versus-a-copy\n",
            "  df['NUM_BATH']=df['NUM_BATH'].fillna(method='ffill')\n"
          ]
        }
      ],
      "source": [
        "df['NUM_BATH']=df['NUM_BATH'].fillna(method='ffill')"
      ]
    },
    {
      "cell_type": "code",
      "execution_count": 19,
      "metadata": {
        "id": "yy6Tkg2N-DyJ"
      },
      "outputs": [
        {
          "data": {
            "text/html": [
              "<div>\n",
              "<style scoped>\n",
              "    .dataframe tbody tr th:only-of-type {\n",
              "        vertical-align: middle;\n",
              "    }\n",
              "\n",
              "    .dataframe tbody tr th {\n",
              "        vertical-align: top;\n",
              "    }\n",
              "\n",
              "    .dataframe thead th {\n",
              "        text-align: right;\n",
              "    }\n",
              "</style>\n",
              "<table border=\"1\" class=\"dataframe\">\n",
              "  <thead>\n",
              "    <tr style=\"text-align: right;\">\n",
              "      <th></th>\n",
              "      <th>PID</th>\n",
              "      <th>STATE</th>\n",
              "      <th>PRICE</th>\n",
              "      <th>NUM_BEDROOMS</th>\n",
              "      <th>NUM_BATH</th>\n",
              "      <th>SQ_FT</th>\n",
              "    </tr>\n",
              "  </thead>\n",
              "  <tbody>\n",
              "    <tr>\n",
              "      <th>0</th>\n",
              "      <td>100001000.0</td>\n",
              "      <td>MP</td>\n",
              "      <td>321654</td>\n",
              "      <td>3</td>\n",
              "      <td>1</td>\n",
              "      <td>1000</td>\n",
              "    </tr>\n",
              "    <tr>\n",
              "      <th>1</th>\n",
              "      <td>100002000.0</td>\n",
              "      <td>MAHARASHTRA</td>\n",
              "      <td>21325</td>\n",
              "      <td>3</td>\n",
              "      <td>1.5</td>\n",
              "      <td>NaN</td>\n",
              "    </tr>\n",
              "    <tr>\n",
              "      <th>3</th>\n",
              "      <td>100004000.0</td>\n",
              "      <td>TN</td>\n",
              "      <td>321321</td>\n",
              "      <td>1</td>\n",
              "      <td>1.5</td>\n",
              "      <td>700</td>\n",
              "    </tr>\n",
              "    <tr>\n",
              "      <th>4</th>\n",
              "      <td>NaN</td>\n",
              "      <td>TN</td>\n",
              "      <td>589465645</td>\n",
              "      <td>3</td>\n",
              "      <td>2</td>\n",
              "      <td>1600</td>\n",
              "    </tr>\n",
              "    <tr>\n",
              "      <th>6</th>\n",
              "      <td>100007000.0</td>\n",
              "      <td>ASSAM</td>\n",
              "      <td>3222321</td>\n",
              "      <td>2</td>\n",
              "      <td>HURLEY</td>\n",
              "      <td>950</td>\n",
              "    </tr>\n",
              "    <tr>\n",
              "      <th>7</th>\n",
              "      <td>100008000.0</td>\n",
              "      <td>HP</td>\n",
              "      <td>23131</td>\n",
              "      <td>1</td>\n",
              "      <td>1</td>\n",
              "      <td>NaN</td>\n",
              "    </tr>\n",
              "  </tbody>\n",
              "</table>\n",
              "</div>"
            ],
            "text/plain": [
              "           PID        STATE      PRICE NUM_BEDROOMS NUM_BATH SQ_FT\n",
              "0  100001000.0           MP     321654            3        1  1000\n",
              "1  100002000.0  MAHARASHTRA      21325            3      1.5   NaN\n",
              "3  100004000.0           TN     321321            1      1.5   700\n",
              "4          NaN           TN  589465645            3        2  1600\n",
              "6  100007000.0        ASSAM    3222321            2   HURLEY   950\n",
              "7  100008000.0           HP      23131            1        1   NaN"
            ]
          },
          "execution_count": 19,
          "metadata": {},
          "output_type": "execute_result"
        }
      ],
      "source": [
        "df"
      ]
    },
    {
      "cell_type": "code",
      "execution_count": 20,
      "metadata": {
        "id": "dn6beHVwSUmX"
      },
      "outputs": [],
      "source": [
        "df.loc[6,'NUM_BATH']=2"
      ]
    },
    {
      "cell_type": "code",
      "execution_count": 21,
      "metadata": {
        "id": "BMeki2xiUUMG"
      },
      "outputs": [
        {
          "data": {
            "text/html": [
              "<div>\n",
              "<style scoped>\n",
              "    .dataframe tbody tr th:only-of-type {\n",
              "        vertical-align: middle;\n",
              "    }\n",
              "\n",
              "    .dataframe tbody tr th {\n",
              "        vertical-align: top;\n",
              "    }\n",
              "\n",
              "    .dataframe thead th {\n",
              "        text-align: right;\n",
              "    }\n",
              "</style>\n",
              "<table border=\"1\" class=\"dataframe\">\n",
              "  <thead>\n",
              "    <tr style=\"text-align: right;\">\n",
              "      <th></th>\n",
              "      <th>PID</th>\n",
              "      <th>STATE</th>\n",
              "      <th>PRICE</th>\n",
              "      <th>NUM_BEDROOMS</th>\n",
              "      <th>NUM_BATH</th>\n",
              "      <th>SQ_FT</th>\n",
              "    </tr>\n",
              "  </thead>\n",
              "  <tbody>\n",
              "    <tr>\n",
              "      <th>0</th>\n",
              "      <td>100001000.0</td>\n",
              "      <td>MP</td>\n",
              "      <td>321654</td>\n",
              "      <td>3</td>\n",
              "      <td>1</td>\n",
              "      <td>1000</td>\n",
              "    </tr>\n",
              "    <tr>\n",
              "      <th>1</th>\n",
              "      <td>100002000.0</td>\n",
              "      <td>MAHARASHTRA</td>\n",
              "      <td>21325</td>\n",
              "      <td>3</td>\n",
              "      <td>1.5</td>\n",
              "      <td>NaN</td>\n",
              "    </tr>\n",
              "    <tr>\n",
              "      <th>3</th>\n",
              "      <td>100004000.0</td>\n",
              "      <td>TN</td>\n",
              "      <td>321321</td>\n",
              "      <td>1</td>\n",
              "      <td>1.5</td>\n",
              "      <td>700</td>\n",
              "    </tr>\n",
              "    <tr>\n",
              "      <th>4</th>\n",
              "      <td>NaN</td>\n",
              "      <td>TN</td>\n",
              "      <td>589465645</td>\n",
              "      <td>3</td>\n",
              "      <td>2</td>\n",
              "      <td>1600</td>\n",
              "    </tr>\n",
              "    <tr>\n",
              "      <th>6</th>\n",
              "      <td>100007000.0</td>\n",
              "      <td>ASSAM</td>\n",
              "      <td>3222321</td>\n",
              "      <td>2</td>\n",
              "      <td>2</td>\n",
              "      <td>950</td>\n",
              "    </tr>\n",
              "    <tr>\n",
              "      <th>7</th>\n",
              "      <td>100008000.0</td>\n",
              "      <td>HP</td>\n",
              "      <td>23131</td>\n",
              "      <td>1</td>\n",
              "      <td>1</td>\n",
              "      <td>NaN</td>\n",
              "    </tr>\n",
              "  </tbody>\n",
              "</table>\n",
              "</div>"
            ],
            "text/plain": [
              "           PID        STATE      PRICE NUM_BEDROOMS NUM_BATH SQ_FT\n",
              "0  100001000.0           MP     321654            3        1  1000\n",
              "1  100002000.0  MAHARASHTRA      21325            3      1.5   NaN\n",
              "3  100004000.0           TN     321321            1      1.5   700\n",
              "4          NaN           TN  589465645            3        2  1600\n",
              "6  100007000.0        ASSAM    3222321            2        2   950\n",
              "7  100008000.0           HP      23131            1        1   NaN"
            ]
          },
          "execution_count": 21,
          "metadata": {},
          "output_type": "execute_result"
        }
      ],
      "source": [
        "df"
      ]
    },
    {
      "cell_type": "markdown",
      "metadata": {
        "id": "p71ouKJQWTzX"
      },
      "source": [
        "###7. Replace the empty values in “SQ_FT” with the mean of the all entries."
      ]
    },
    {
      "cell_type": "code",
      "execution_count": 22,
      "metadata": {
        "id": "x9pferDZX54m"
      },
      "outputs": [
        {
          "name": "stderr",
          "output_type": "stream",
          "text": [
            "C:\\Users\\saivi\\AppData\\Local\\Temp\\ipykernel_6528\\52702959.py:1: SettingWithCopyWarning: \n",
            "A value is trying to be set on a copy of a slice from a DataFrame.\n",
            "Try using .loc[row_indexer,col_indexer] = value instead\n",
            "\n",
            "See the caveats in the documentation: https://pandas.pydata.org/pandas-docs/stable/user_guide/indexing.html#returning-a-view-versus-a-copy\n",
            "  df['SQ_FT']= df['SQ_FT'].astype('float')\n"
          ]
        }
      ],
      "source": [
        "df['SQ_FT']= df['SQ_FT'].astype('float')"
      ]
    },
    {
      "cell_type": "code",
      "execution_count": 23,
      "metadata": {
        "id": "8NYWYnYnafUy"
      },
      "outputs": [
        {
          "name": "stdout",
          "output_type": "stream",
          "text": [
            "<class 'pandas.core.frame.DataFrame'>\n",
            "Index: 6 entries, 0 to 7\n",
            "Data columns (total 6 columns):\n",
            " #   Column        Non-Null Count  Dtype  \n",
            "---  ------        --------------  -----  \n",
            " 0   PID           5 non-null      float64\n",
            " 1   STATE         6 non-null      object \n",
            " 2   PRICE         6 non-null      int64  \n",
            " 3   NUM_BEDROOMS  6 non-null      object \n",
            " 4   NUM_BATH      6 non-null      object \n",
            " 5   SQ_FT         4 non-null      float64\n",
            "dtypes: float64(2), int64(1), object(3)\n",
            "memory usage: 508.0+ bytes\n"
          ]
        }
      ],
      "source": [
        "df.info()"
      ]
    },
    {
      "cell_type": "code",
      "execution_count": 24,
      "metadata": {
        "id": "CNwLkLVSak1W"
      },
      "outputs": [],
      "source": [
        "mean = df['SQ_FT'].mean()"
      ]
    },
    {
      "cell_type": "code",
      "execution_count": 25,
      "metadata": {
        "id": "dWJnnV-Sa0L-"
      },
      "outputs": [
        {
          "name": "stderr",
          "output_type": "stream",
          "text": [
            "C:\\Users\\saivi\\AppData\\Local\\Temp\\ipykernel_6528\\1091402710.py:1: SettingWithCopyWarning: \n",
            "A value is trying to be set on a copy of a slice from a DataFrame\n",
            "\n",
            "See the caveats in the documentation: https://pandas.pydata.org/pandas-docs/stable/user_guide/indexing.html#returning-a-view-versus-a-copy\n",
            "  df['SQ_FT'].fillna(mean, inplace=True)\n"
          ]
        }
      ],
      "source": [
        "df['SQ_FT'].fillna(mean, inplace=True)"
      ]
    },
    {
      "cell_type": "code",
      "execution_count": 26,
      "metadata": {
        "id": "6gny-iZVa-oV"
      },
      "outputs": [
        {
          "data": {
            "text/html": [
              "<div>\n",
              "<style scoped>\n",
              "    .dataframe tbody tr th:only-of-type {\n",
              "        vertical-align: middle;\n",
              "    }\n",
              "\n",
              "    .dataframe tbody tr th {\n",
              "        vertical-align: top;\n",
              "    }\n",
              "\n",
              "    .dataframe thead th {\n",
              "        text-align: right;\n",
              "    }\n",
              "</style>\n",
              "<table border=\"1\" class=\"dataframe\">\n",
              "  <thead>\n",
              "    <tr style=\"text-align: right;\">\n",
              "      <th></th>\n",
              "      <th>PID</th>\n",
              "      <th>STATE</th>\n",
              "      <th>PRICE</th>\n",
              "      <th>NUM_BEDROOMS</th>\n",
              "      <th>NUM_BATH</th>\n",
              "      <th>SQ_FT</th>\n",
              "    </tr>\n",
              "  </thead>\n",
              "  <tbody>\n",
              "    <tr>\n",
              "      <th>0</th>\n",
              "      <td>100001000.0</td>\n",
              "      <td>MP</td>\n",
              "      <td>321654</td>\n",
              "      <td>3</td>\n",
              "      <td>1</td>\n",
              "      <td>1000.0</td>\n",
              "    </tr>\n",
              "    <tr>\n",
              "      <th>1</th>\n",
              "      <td>100002000.0</td>\n",
              "      <td>MAHARASHTRA</td>\n",
              "      <td>21325</td>\n",
              "      <td>3</td>\n",
              "      <td>1.5</td>\n",
              "      <td>1062.5</td>\n",
              "    </tr>\n",
              "    <tr>\n",
              "      <th>3</th>\n",
              "      <td>100004000.0</td>\n",
              "      <td>TN</td>\n",
              "      <td>321321</td>\n",
              "      <td>1</td>\n",
              "      <td>1.5</td>\n",
              "      <td>700.0</td>\n",
              "    </tr>\n",
              "    <tr>\n",
              "      <th>4</th>\n",
              "      <td>NaN</td>\n",
              "      <td>TN</td>\n",
              "      <td>589465645</td>\n",
              "      <td>3</td>\n",
              "      <td>2</td>\n",
              "      <td>1600.0</td>\n",
              "    </tr>\n",
              "    <tr>\n",
              "      <th>6</th>\n",
              "      <td>100007000.0</td>\n",
              "      <td>ASSAM</td>\n",
              "      <td>3222321</td>\n",
              "      <td>2</td>\n",
              "      <td>2</td>\n",
              "      <td>950.0</td>\n",
              "    </tr>\n",
              "    <tr>\n",
              "      <th>7</th>\n",
              "      <td>100008000.0</td>\n",
              "      <td>HP</td>\n",
              "      <td>23131</td>\n",
              "      <td>1</td>\n",
              "      <td>1</td>\n",
              "      <td>1062.5</td>\n",
              "    </tr>\n",
              "  </tbody>\n",
              "</table>\n",
              "</div>"
            ],
            "text/plain": [
              "           PID        STATE      PRICE NUM_BEDROOMS NUM_BATH   SQ_FT\n",
              "0  100001000.0           MP     321654            3        1  1000.0\n",
              "1  100002000.0  MAHARASHTRA      21325            3      1.5  1062.5\n",
              "3  100004000.0           TN     321321            1      1.5   700.0\n",
              "4          NaN           TN  589465645            3        2  1600.0\n",
              "6  100007000.0        ASSAM    3222321            2        2   950.0\n",
              "7  100008000.0           HP      23131            1        1  1062.5"
            ]
          },
          "execution_count": 26,
          "metadata": {},
          "output_type": "execute_result"
        }
      ],
      "source": [
        "df"
      ]
    },
    {
      "cell_type": "markdown",
      "metadata": {
        "id": "rPC_mVy3bcgw"
      },
      "source": [
        "###8. What is the sum of SQ_FT of all entries in the dataset."
      ]
    },
    {
      "cell_type": "code",
      "execution_count": 27,
      "metadata": {
        "id": "W2zWnPDvbAbF"
      },
      "outputs": [],
      "source": [
        "sum = df['SQ_FT'].sum()"
      ]
    },
    {
      "cell_type": "code",
      "execution_count": 28,
      "metadata": {
        "id": "DvJO8tn7bk2-"
      },
      "outputs": [
        {
          "data": {
            "text/plain": [
              "6375.0"
            ]
          },
          "execution_count": 28,
          "metadata": {},
          "output_type": "execute_result"
        }
      ],
      "source": [
        "sum"
      ]
    },
    {
      "cell_type": "markdown",
      "metadata": {
        "id": "Y2Tey1XOcMjP"
      },
      "source": [
        "###9. Add a new column “NUM_STORE” and with all the values as 1 for all rows"
      ]
    },
    {
      "cell_type": "code",
      "execution_count": 29,
      "metadata": {
        "id": "VdnFrVgIbl4u"
      },
      "outputs": [
        {
          "name": "stderr",
          "output_type": "stream",
          "text": [
            "C:\\Users\\saivi\\AppData\\Local\\Temp\\ipykernel_6528\\3443292024.py:1: SettingWithCopyWarning: \n",
            "A value is trying to be set on a copy of a slice from a DataFrame.\n",
            "Try using .loc[row_indexer,col_indexer] = value instead\n",
            "\n",
            "See the caveats in the documentation: https://pandas.pydata.org/pandas-docs/stable/user_guide/indexing.html#returning-a-view-versus-a-copy\n",
            "  df[\"NUM_STORE\"]=1\n"
          ]
        }
      ],
      "source": [
        "df[\"NUM_STORE\"]=1"
      ]
    },
    {
      "cell_type": "code",
      "execution_count": 30,
      "metadata": {
        "id": "M10iFlSxcX72"
      },
      "outputs": [
        {
          "data": {
            "text/html": [
              "<div>\n",
              "<style scoped>\n",
              "    .dataframe tbody tr th:only-of-type {\n",
              "        vertical-align: middle;\n",
              "    }\n",
              "\n",
              "    .dataframe tbody tr th {\n",
              "        vertical-align: top;\n",
              "    }\n",
              "\n",
              "    .dataframe thead th {\n",
              "        text-align: right;\n",
              "    }\n",
              "</style>\n",
              "<table border=\"1\" class=\"dataframe\">\n",
              "  <thead>\n",
              "    <tr style=\"text-align: right;\">\n",
              "      <th></th>\n",
              "      <th>PID</th>\n",
              "      <th>STATE</th>\n",
              "      <th>PRICE</th>\n",
              "      <th>NUM_BEDROOMS</th>\n",
              "      <th>NUM_BATH</th>\n",
              "      <th>SQ_FT</th>\n",
              "      <th>NUM_STORE</th>\n",
              "    </tr>\n",
              "  </thead>\n",
              "  <tbody>\n",
              "    <tr>\n",
              "      <th>0</th>\n",
              "      <td>100001000.0</td>\n",
              "      <td>MP</td>\n",
              "      <td>321654</td>\n",
              "      <td>3</td>\n",
              "      <td>1</td>\n",
              "      <td>1000.0</td>\n",
              "      <td>1</td>\n",
              "    </tr>\n",
              "    <tr>\n",
              "      <th>1</th>\n",
              "      <td>100002000.0</td>\n",
              "      <td>MAHARASHTRA</td>\n",
              "      <td>21325</td>\n",
              "      <td>3</td>\n",
              "      <td>1.5</td>\n",
              "      <td>1062.5</td>\n",
              "      <td>1</td>\n",
              "    </tr>\n",
              "    <tr>\n",
              "      <th>3</th>\n",
              "      <td>100004000.0</td>\n",
              "      <td>TN</td>\n",
              "      <td>321321</td>\n",
              "      <td>1</td>\n",
              "      <td>1.5</td>\n",
              "      <td>700.0</td>\n",
              "      <td>1</td>\n",
              "    </tr>\n",
              "    <tr>\n",
              "      <th>4</th>\n",
              "      <td>NaN</td>\n",
              "      <td>TN</td>\n",
              "      <td>589465645</td>\n",
              "      <td>3</td>\n",
              "      <td>2</td>\n",
              "      <td>1600.0</td>\n",
              "      <td>1</td>\n",
              "    </tr>\n",
              "    <tr>\n",
              "      <th>6</th>\n",
              "      <td>100007000.0</td>\n",
              "      <td>ASSAM</td>\n",
              "      <td>3222321</td>\n",
              "      <td>2</td>\n",
              "      <td>2</td>\n",
              "      <td>950.0</td>\n",
              "      <td>1</td>\n",
              "    </tr>\n",
              "    <tr>\n",
              "      <th>7</th>\n",
              "      <td>100008000.0</td>\n",
              "      <td>HP</td>\n",
              "      <td>23131</td>\n",
              "      <td>1</td>\n",
              "      <td>1</td>\n",
              "      <td>1062.5</td>\n",
              "      <td>1</td>\n",
              "    </tr>\n",
              "  </tbody>\n",
              "</table>\n",
              "</div>"
            ],
            "text/plain": [
              "           PID        STATE      PRICE NUM_BEDROOMS NUM_BATH   SQ_FT   \n",
              "0  100001000.0           MP     321654            3        1  1000.0  \\\n",
              "1  100002000.0  MAHARASHTRA      21325            3      1.5  1062.5   \n",
              "3  100004000.0           TN     321321            1      1.5   700.0   \n",
              "4          NaN           TN  589465645            3        2  1600.0   \n",
              "6  100007000.0        ASSAM    3222321            2        2   950.0   \n",
              "7  100008000.0           HP      23131            1        1  1062.5   \n",
              "\n",
              "   NUM_STORE  \n",
              "0          1  \n",
              "1          1  \n",
              "3          1  \n",
              "4          1  \n",
              "6          1  \n",
              "7          1  "
            ]
          },
          "execution_count": 30,
          "metadata": {},
          "output_type": "execute_result"
        }
      ],
      "source": [
        "df"
      ]
    },
    {
      "cell_type": "markdown",
      "metadata": {
        "id": "I3knTqshcgAb"
      },
      "source": [
        "###10. Create a DataFrame containing all entries of TN state only"
      ]
    },
    {
      "cell_type": "code",
      "execution_count": 31,
      "metadata": {
        "id": "GKs6KVjvcZX-"
      },
      "outputs": [],
      "source": [
        "df_TN = df.loc[df.STATE=='TN',:]"
      ]
    },
    {
      "cell_type": "code",
      "execution_count": 32,
      "metadata": {
        "id": "6RjjiAtjcwAG"
      },
      "outputs": [
        {
          "data": {
            "text/html": [
              "<div>\n",
              "<style scoped>\n",
              "    .dataframe tbody tr th:only-of-type {\n",
              "        vertical-align: middle;\n",
              "    }\n",
              "\n",
              "    .dataframe tbody tr th {\n",
              "        vertical-align: top;\n",
              "    }\n",
              "\n",
              "    .dataframe thead th {\n",
              "        text-align: right;\n",
              "    }\n",
              "</style>\n",
              "<table border=\"1\" class=\"dataframe\">\n",
              "  <thead>\n",
              "    <tr style=\"text-align: right;\">\n",
              "      <th></th>\n",
              "      <th>PID</th>\n",
              "      <th>STATE</th>\n",
              "      <th>PRICE</th>\n",
              "      <th>NUM_BEDROOMS</th>\n",
              "      <th>NUM_BATH</th>\n",
              "      <th>SQ_FT</th>\n",
              "      <th>NUM_STORE</th>\n",
              "    </tr>\n",
              "  </thead>\n",
              "  <tbody>\n",
              "    <tr>\n",
              "      <th>3</th>\n",
              "      <td>100004000.0</td>\n",
              "      <td>TN</td>\n",
              "      <td>321321</td>\n",
              "      <td>1</td>\n",
              "      <td>1.5</td>\n",
              "      <td>700.0</td>\n",
              "      <td>1</td>\n",
              "    </tr>\n",
              "    <tr>\n",
              "      <th>4</th>\n",
              "      <td>NaN</td>\n",
              "      <td>TN</td>\n",
              "      <td>589465645</td>\n",
              "      <td>3</td>\n",
              "      <td>2</td>\n",
              "      <td>1600.0</td>\n",
              "      <td>1</td>\n",
              "    </tr>\n",
              "  </tbody>\n",
              "</table>\n",
              "</div>"
            ],
            "text/plain": [
              "           PID STATE      PRICE NUM_BEDROOMS NUM_BATH   SQ_FT  NUM_STORE\n",
              "3  100004000.0    TN     321321            1      1.5   700.0          1\n",
              "4          NaN    TN  589465645            3        2  1600.0          1"
            ]
          },
          "execution_count": 32,
          "metadata": {},
          "output_type": "execute_result"
        }
      ],
      "source": [
        "df_TN"
      ]
    },
    {
      "cell_type": "markdown",
      "metadata": {
        "id": "NAgBfP35dEV2"
      },
      "source": [
        "###14. Create a DataFrame having SQ_FT area greater than 1000 and display the DataFrame"
      ]
    },
    {
      "cell_type": "code",
      "execution_count": 33,
      "metadata": {
        "id": "qSzYmmoScxY9"
      },
      "outputs": [],
      "source": [
        "df_SQFT_greater1000 = df.loc[df.SQ_FT>1000,:]"
      ]
    },
    {
      "cell_type": "code",
      "execution_count": 34,
      "metadata": {
        "id": "9gC3e7W7dqjh"
      },
      "outputs": [
        {
          "data": {
            "text/html": [
              "<div>\n",
              "<style scoped>\n",
              "    .dataframe tbody tr th:only-of-type {\n",
              "        vertical-align: middle;\n",
              "    }\n",
              "\n",
              "    .dataframe tbody tr th {\n",
              "        vertical-align: top;\n",
              "    }\n",
              "\n",
              "    .dataframe thead th {\n",
              "        text-align: right;\n",
              "    }\n",
              "</style>\n",
              "<table border=\"1\" class=\"dataframe\">\n",
              "  <thead>\n",
              "    <tr style=\"text-align: right;\">\n",
              "      <th></th>\n",
              "      <th>PID</th>\n",
              "      <th>STATE</th>\n",
              "      <th>PRICE</th>\n",
              "      <th>NUM_BEDROOMS</th>\n",
              "      <th>NUM_BATH</th>\n",
              "      <th>SQ_FT</th>\n",
              "      <th>NUM_STORE</th>\n",
              "    </tr>\n",
              "  </thead>\n",
              "  <tbody>\n",
              "    <tr>\n",
              "      <th>1</th>\n",
              "      <td>100002000.0</td>\n",
              "      <td>MAHARASHTRA</td>\n",
              "      <td>21325</td>\n",
              "      <td>3</td>\n",
              "      <td>1.5</td>\n",
              "      <td>1062.5</td>\n",
              "      <td>1</td>\n",
              "    </tr>\n",
              "    <tr>\n",
              "      <th>4</th>\n",
              "      <td>NaN</td>\n",
              "      <td>TN</td>\n",
              "      <td>589465645</td>\n",
              "      <td>3</td>\n",
              "      <td>2</td>\n",
              "      <td>1600.0</td>\n",
              "      <td>1</td>\n",
              "    </tr>\n",
              "    <tr>\n",
              "      <th>7</th>\n",
              "      <td>100008000.0</td>\n",
              "      <td>HP</td>\n",
              "      <td>23131</td>\n",
              "      <td>1</td>\n",
              "      <td>1</td>\n",
              "      <td>1062.5</td>\n",
              "      <td>1</td>\n",
              "    </tr>\n",
              "  </tbody>\n",
              "</table>\n",
              "</div>"
            ],
            "text/plain": [
              "           PID        STATE      PRICE NUM_BEDROOMS NUM_BATH   SQ_FT   \n",
              "1  100002000.0  MAHARASHTRA      21325            3      1.5  1062.5  \\\n",
              "4          NaN           TN  589465645            3        2  1600.0   \n",
              "7  100008000.0           HP      23131            1        1  1062.5   \n",
              "\n",
              "   NUM_STORE  \n",
              "1          1  \n",
              "4          1  \n",
              "7          1  "
            ]
          },
          "execution_count": 34,
          "metadata": {},
          "output_type": "execute_result"
        }
      ],
      "source": [
        "df_SQFT_greater1000"
      ]
    },
    {
      "cell_type": "markdown",
      "metadata": {
        "id": "tzZlpWcPdy-d"
      },
      "source": [
        "###15. Create a DataFrame having only first Three columns and First Three rows"
      ]
    },
    {
      "cell_type": "code",
      "execution_count": 35,
      "metadata": {
        "id": "y_IeNmVcds9e"
      },
      "outputs": [],
      "source": [
        "df_3c_3r= df.iloc[:3,:3]"
      ]
    },
    {
      "cell_type": "code",
      "execution_count": 36,
      "metadata": {
        "id": "ox2ZlUFkeFiO"
      },
      "outputs": [
        {
          "data": {
            "text/html": [
              "<div>\n",
              "<style scoped>\n",
              "    .dataframe tbody tr th:only-of-type {\n",
              "        vertical-align: middle;\n",
              "    }\n",
              "\n",
              "    .dataframe tbody tr th {\n",
              "        vertical-align: top;\n",
              "    }\n",
              "\n",
              "    .dataframe thead th {\n",
              "        text-align: right;\n",
              "    }\n",
              "</style>\n",
              "<table border=\"1\" class=\"dataframe\">\n",
              "  <thead>\n",
              "    <tr style=\"text-align: right;\">\n",
              "      <th></th>\n",
              "      <th>PID</th>\n",
              "      <th>STATE</th>\n",
              "      <th>PRICE</th>\n",
              "    </tr>\n",
              "  </thead>\n",
              "  <tbody>\n",
              "    <tr>\n",
              "      <th>0</th>\n",
              "      <td>100001000.0</td>\n",
              "      <td>MP</td>\n",
              "      <td>321654</td>\n",
              "    </tr>\n",
              "    <tr>\n",
              "      <th>1</th>\n",
              "      <td>100002000.0</td>\n",
              "      <td>MAHARASHTRA</td>\n",
              "      <td>21325</td>\n",
              "    </tr>\n",
              "    <tr>\n",
              "      <th>3</th>\n",
              "      <td>100004000.0</td>\n",
              "      <td>TN</td>\n",
              "      <td>321321</td>\n",
              "    </tr>\n",
              "  </tbody>\n",
              "</table>\n",
              "</div>"
            ],
            "text/plain": [
              "           PID        STATE   PRICE\n",
              "0  100001000.0           MP  321654\n",
              "1  100002000.0  MAHARASHTRA   21325\n",
              "3  100004000.0           TN  321321"
            ]
          },
          "execution_count": 36,
          "metadata": {},
          "output_type": "execute_result"
        }
      ],
      "source": [
        "df_3c_3r"
      ]
    },
    {
      "cell_type": "markdown",
      "metadata": {
        "id": "aHdlIppTeMQx"
      },
      "source": [
        "###16. Display the state having highest average price per square foot of housing area. Hint: Average of (TotalPrice/Sq_Ft)\n"
      ]
    },
    {
      "cell_type": "code",
      "execution_count": 37,
      "metadata": {
        "id": "iPXtdWR6eH2e"
      },
      "outputs": [
        {
          "data": {
            "text/html": [
              "<div>\n",
              "<style scoped>\n",
              "    .dataframe tbody tr th:only-of-type {\n",
              "        vertical-align: middle;\n",
              "    }\n",
              "\n",
              "    .dataframe tbody tr th {\n",
              "        vertical-align: top;\n",
              "    }\n",
              "\n",
              "    .dataframe thead th {\n",
              "        text-align: right;\n",
              "    }\n",
              "</style>\n",
              "<table border=\"1\" class=\"dataframe\">\n",
              "  <thead>\n",
              "    <tr style=\"text-align: right;\">\n",
              "      <th></th>\n",
              "      <th>PID</th>\n",
              "      <th>STATE</th>\n",
              "      <th>PRICE</th>\n",
              "      <th>NUM_BEDROOMS</th>\n",
              "      <th>NUM_BATH</th>\n",
              "      <th>SQ_FT</th>\n",
              "      <th>NUM_STORE</th>\n",
              "    </tr>\n",
              "  </thead>\n",
              "  <tbody>\n",
              "    <tr>\n",
              "      <th>0</th>\n",
              "      <td>100001000.0</td>\n",
              "      <td>MP</td>\n",
              "      <td>321654</td>\n",
              "      <td>3</td>\n",
              "      <td>1</td>\n",
              "      <td>1000.0</td>\n",
              "      <td>1</td>\n",
              "    </tr>\n",
              "    <tr>\n",
              "      <th>1</th>\n",
              "      <td>100002000.0</td>\n",
              "      <td>MAHARASHTRA</td>\n",
              "      <td>21325</td>\n",
              "      <td>3</td>\n",
              "      <td>1.5</td>\n",
              "      <td>1062.5</td>\n",
              "      <td>1</td>\n",
              "    </tr>\n",
              "    <tr>\n",
              "      <th>3</th>\n",
              "      <td>100004000.0</td>\n",
              "      <td>TN</td>\n",
              "      <td>321321</td>\n",
              "      <td>1</td>\n",
              "      <td>1.5</td>\n",
              "      <td>700.0</td>\n",
              "      <td>1</td>\n",
              "    </tr>\n",
              "    <tr>\n",
              "      <th>4</th>\n",
              "      <td>NaN</td>\n",
              "      <td>TN</td>\n",
              "      <td>589465645</td>\n",
              "      <td>3</td>\n",
              "      <td>2</td>\n",
              "      <td>1600.0</td>\n",
              "      <td>1</td>\n",
              "    </tr>\n",
              "    <tr>\n",
              "      <th>6</th>\n",
              "      <td>100007000.0</td>\n",
              "      <td>ASSAM</td>\n",
              "      <td>3222321</td>\n",
              "      <td>2</td>\n",
              "      <td>2</td>\n",
              "      <td>950.0</td>\n",
              "      <td>1</td>\n",
              "    </tr>\n",
              "    <tr>\n",
              "      <th>7</th>\n",
              "      <td>100008000.0</td>\n",
              "      <td>HP</td>\n",
              "      <td>23131</td>\n",
              "      <td>1</td>\n",
              "      <td>1</td>\n",
              "      <td>1062.5</td>\n",
              "      <td>1</td>\n",
              "    </tr>\n",
              "  </tbody>\n",
              "</table>\n",
              "</div>"
            ],
            "text/plain": [
              "           PID        STATE      PRICE NUM_BEDROOMS NUM_BATH   SQ_FT   \n",
              "0  100001000.0           MP     321654            3        1  1000.0  \\\n",
              "1  100002000.0  MAHARASHTRA      21325            3      1.5  1062.5   \n",
              "3  100004000.0           TN     321321            1      1.5   700.0   \n",
              "4          NaN           TN  589465645            3        2  1600.0   \n",
              "6  100007000.0        ASSAM    3222321            2        2   950.0   \n",
              "7  100008000.0           HP      23131            1        1  1062.5   \n",
              "\n",
              "   NUM_STORE  \n",
              "0          1  \n",
              "1          1  \n",
              "3          1  \n",
              "4          1  \n",
              "6          1  \n",
              "7          1  "
            ]
          },
          "execution_count": 37,
          "metadata": {},
          "output_type": "execute_result"
        }
      ],
      "source": [
        "df"
      ]
    },
    {
      "cell_type": "code",
      "execution_count": 38,
      "metadata": {
        "id": "_UtljcM7eYKS"
      },
      "outputs": [
        {
          "name": "stderr",
          "output_type": "stream",
          "text": [
            "C:\\Users\\saivi\\AppData\\Local\\Temp\\ipykernel_6528\\733514720.py:1: SettingWithCopyWarning: \n",
            "A value is trying to be set on a copy of a slice from a DataFrame.\n",
            "Try using .loc[row_indexer,col_indexer] = value instead\n",
            "\n",
            "See the caveats in the documentation: https://pandas.pydata.org/pandas-docs/stable/user_guide/indexing.html#returning-a-view-versus-a-copy\n",
            "  df['AVG_PRICE_PER_SQFT']=df['PRICE'] / df['SQ_FT']\n"
          ]
        }
      ],
      "source": [
        "df['AVG_PRICE_PER_SQFT']=df['PRICE'] / df['SQ_FT']"
      ]
    },
    {
      "cell_type": "code",
      "execution_count": 39,
      "metadata": {
        "id": "LuFdWFDAfAO1"
      },
      "outputs": [
        {
          "data": {
            "text/html": [
              "<div>\n",
              "<style scoped>\n",
              "    .dataframe tbody tr th:only-of-type {\n",
              "        vertical-align: middle;\n",
              "    }\n",
              "\n",
              "    .dataframe tbody tr th {\n",
              "        vertical-align: top;\n",
              "    }\n",
              "\n",
              "    .dataframe thead th {\n",
              "        text-align: right;\n",
              "    }\n",
              "</style>\n",
              "<table border=\"1\" class=\"dataframe\">\n",
              "  <thead>\n",
              "    <tr style=\"text-align: right;\">\n",
              "      <th></th>\n",
              "      <th>PID</th>\n",
              "      <th>STATE</th>\n",
              "      <th>PRICE</th>\n",
              "      <th>NUM_BEDROOMS</th>\n",
              "      <th>NUM_BATH</th>\n",
              "      <th>SQ_FT</th>\n",
              "      <th>NUM_STORE</th>\n",
              "      <th>AVG_PRICE_PER_SQFT</th>\n",
              "    </tr>\n",
              "  </thead>\n",
              "  <tbody>\n",
              "    <tr>\n",
              "      <th>0</th>\n",
              "      <td>100001000.0</td>\n",
              "      <td>MP</td>\n",
              "      <td>321654</td>\n",
              "      <td>3</td>\n",
              "      <td>1</td>\n",
              "      <td>1000.0</td>\n",
              "      <td>1</td>\n",
              "      <td>321.654000</td>\n",
              "    </tr>\n",
              "    <tr>\n",
              "      <th>1</th>\n",
              "      <td>100002000.0</td>\n",
              "      <td>MAHARASHTRA</td>\n",
              "      <td>21325</td>\n",
              "      <td>3</td>\n",
              "      <td>1.5</td>\n",
              "      <td>1062.5</td>\n",
              "      <td>1</td>\n",
              "      <td>20.070588</td>\n",
              "    </tr>\n",
              "    <tr>\n",
              "      <th>3</th>\n",
              "      <td>100004000.0</td>\n",
              "      <td>TN</td>\n",
              "      <td>321321</td>\n",
              "      <td>1</td>\n",
              "      <td>1.5</td>\n",
              "      <td>700.0</td>\n",
              "      <td>1</td>\n",
              "      <td>459.030000</td>\n",
              "    </tr>\n",
              "    <tr>\n",
              "      <th>4</th>\n",
              "      <td>NaN</td>\n",
              "      <td>TN</td>\n",
              "      <td>589465645</td>\n",
              "      <td>3</td>\n",
              "      <td>2</td>\n",
              "      <td>1600.0</td>\n",
              "      <td>1</td>\n",
              "      <td>368416.028125</td>\n",
              "    </tr>\n",
              "    <tr>\n",
              "      <th>6</th>\n",
              "      <td>100007000.0</td>\n",
              "      <td>ASSAM</td>\n",
              "      <td>3222321</td>\n",
              "      <td>2</td>\n",
              "      <td>2</td>\n",
              "      <td>950.0</td>\n",
              "      <td>1</td>\n",
              "      <td>3391.916842</td>\n",
              "    </tr>\n",
              "    <tr>\n",
              "      <th>7</th>\n",
              "      <td>100008000.0</td>\n",
              "      <td>HP</td>\n",
              "      <td>23131</td>\n",
              "      <td>1</td>\n",
              "      <td>1</td>\n",
              "      <td>1062.5</td>\n",
              "      <td>1</td>\n",
              "      <td>21.770353</td>\n",
              "    </tr>\n",
              "  </tbody>\n",
              "</table>\n",
              "</div>"
            ],
            "text/plain": [
              "           PID        STATE      PRICE NUM_BEDROOMS NUM_BATH   SQ_FT   \n",
              "0  100001000.0           MP     321654            3        1  1000.0  \\\n",
              "1  100002000.0  MAHARASHTRA      21325            3      1.5  1062.5   \n",
              "3  100004000.0           TN     321321            1      1.5   700.0   \n",
              "4          NaN           TN  589465645            3        2  1600.0   \n",
              "6  100007000.0        ASSAM    3222321            2        2   950.0   \n",
              "7  100008000.0           HP      23131            1        1  1062.5   \n",
              "\n",
              "   NUM_STORE  AVG_PRICE_PER_SQFT  \n",
              "0          1          321.654000  \n",
              "1          1           20.070588  \n",
              "3          1          459.030000  \n",
              "4          1       368416.028125  \n",
              "6          1         3391.916842  \n",
              "7          1           21.770353  "
            ]
          },
          "execution_count": 39,
          "metadata": {},
          "output_type": "execute_result"
        }
      ],
      "source": [
        "df"
      ]
    },
    {
      "cell_type": "code",
      "execution_count": 40,
      "metadata": {
        "id": "vFktRd3zfBoV"
      },
      "outputs": [],
      "source": [
        "df= df.sort_values(by='AVG_PRICE_PER_SQFT', ascending=False)"
      ]
    },
    {
      "cell_type": "code",
      "execution_count": 41,
      "metadata": {
        "id": "Y_s39SADf6g6"
      },
      "outputs": [
        {
          "data": {
            "text/html": [
              "<div>\n",
              "<style scoped>\n",
              "    .dataframe tbody tr th:only-of-type {\n",
              "        vertical-align: middle;\n",
              "    }\n",
              "\n",
              "    .dataframe tbody tr th {\n",
              "        vertical-align: top;\n",
              "    }\n",
              "\n",
              "    .dataframe thead th {\n",
              "        text-align: right;\n",
              "    }\n",
              "</style>\n",
              "<table border=\"1\" class=\"dataframe\">\n",
              "  <thead>\n",
              "    <tr style=\"text-align: right;\">\n",
              "      <th></th>\n",
              "      <th>PID</th>\n",
              "      <th>STATE</th>\n",
              "      <th>PRICE</th>\n",
              "      <th>NUM_BEDROOMS</th>\n",
              "      <th>NUM_BATH</th>\n",
              "      <th>SQ_FT</th>\n",
              "      <th>NUM_STORE</th>\n",
              "      <th>AVG_PRICE_PER_SQFT</th>\n",
              "    </tr>\n",
              "  </thead>\n",
              "  <tbody>\n",
              "    <tr>\n",
              "      <th>4</th>\n",
              "      <td>NaN</td>\n",
              "      <td>TN</td>\n",
              "      <td>589465645</td>\n",
              "      <td>3</td>\n",
              "      <td>2</td>\n",
              "      <td>1600.0</td>\n",
              "      <td>1</td>\n",
              "      <td>368416.028125</td>\n",
              "    </tr>\n",
              "    <tr>\n",
              "      <th>6</th>\n",
              "      <td>100007000.0</td>\n",
              "      <td>ASSAM</td>\n",
              "      <td>3222321</td>\n",
              "      <td>2</td>\n",
              "      <td>2</td>\n",
              "      <td>950.0</td>\n",
              "      <td>1</td>\n",
              "      <td>3391.916842</td>\n",
              "    </tr>\n",
              "    <tr>\n",
              "      <th>3</th>\n",
              "      <td>100004000.0</td>\n",
              "      <td>TN</td>\n",
              "      <td>321321</td>\n",
              "      <td>1</td>\n",
              "      <td>1.5</td>\n",
              "      <td>700.0</td>\n",
              "      <td>1</td>\n",
              "      <td>459.030000</td>\n",
              "    </tr>\n",
              "    <tr>\n",
              "      <th>0</th>\n",
              "      <td>100001000.0</td>\n",
              "      <td>MP</td>\n",
              "      <td>321654</td>\n",
              "      <td>3</td>\n",
              "      <td>1</td>\n",
              "      <td>1000.0</td>\n",
              "      <td>1</td>\n",
              "      <td>321.654000</td>\n",
              "    </tr>\n",
              "    <tr>\n",
              "      <th>7</th>\n",
              "      <td>100008000.0</td>\n",
              "      <td>HP</td>\n",
              "      <td>23131</td>\n",
              "      <td>1</td>\n",
              "      <td>1</td>\n",
              "      <td>1062.5</td>\n",
              "      <td>1</td>\n",
              "      <td>21.770353</td>\n",
              "    </tr>\n",
              "    <tr>\n",
              "      <th>1</th>\n",
              "      <td>100002000.0</td>\n",
              "      <td>MAHARASHTRA</td>\n",
              "      <td>21325</td>\n",
              "      <td>3</td>\n",
              "      <td>1.5</td>\n",
              "      <td>1062.5</td>\n",
              "      <td>1</td>\n",
              "      <td>20.070588</td>\n",
              "    </tr>\n",
              "  </tbody>\n",
              "</table>\n",
              "</div>"
            ],
            "text/plain": [
              "           PID        STATE      PRICE NUM_BEDROOMS NUM_BATH   SQ_FT   \n",
              "4          NaN           TN  589465645            3        2  1600.0  \\\n",
              "6  100007000.0        ASSAM    3222321            2        2   950.0   \n",
              "3  100004000.0           TN     321321            1      1.5   700.0   \n",
              "0  100001000.0           MP     321654            3        1  1000.0   \n",
              "7  100008000.0           HP      23131            1        1  1062.5   \n",
              "1  100002000.0  MAHARASHTRA      21325            3      1.5  1062.5   \n",
              "\n",
              "   NUM_STORE  AVG_PRICE_PER_SQFT  \n",
              "4          1       368416.028125  \n",
              "6          1         3391.916842  \n",
              "3          1          459.030000  \n",
              "0          1          321.654000  \n",
              "7          1           21.770353  \n",
              "1          1           20.070588  "
            ]
          },
          "execution_count": 41,
          "metadata": {},
          "output_type": "execute_result"
        }
      ],
      "source": [
        "df"
      ]
    },
    {
      "cell_type": "code",
      "execution_count": 42,
      "metadata": {
        "id": "4l_XgNOng25A"
      },
      "outputs": [],
      "source": [
        "df.reset_index(inplace=True, drop=True)"
      ]
    },
    {
      "cell_type": "code",
      "execution_count": 43,
      "metadata": {
        "id": "Go_mxR-nf7m-"
      },
      "outputs": [
        {
          "data": {
            "text/plain": [
              "'TN'"
            ]
          },
          "execution_count": 43,
          "metadata": {},
          "output_type": "execute_result"
        }
      ],
      "source": [
        "df.loc[0,'STATE']"
      ]
    },
    {
      "cell_type": "code",
      "execution_count": null,
      "metadata": {
        "id": "xqmtw8PUgoi-"
      },
      "outputs": [],
      "source": []
    }
  ],
  "metadata": {
    "colab": {
      "provenance": []
    },
    "kernelspec": {
      "display_name": "Python 3",
      "name": "python3"
    },
    "language_info": {
      "codemirror_mode": {
        "name": "ipython",
        "version": 3
      },
      "file_extension": ".py",
      "mimetype": "text/x-python",
      "name": "python",
      "nbconvert_exporter": "python",
      "pygments_lexer": "ipython3",
      "version": "3.10.11"
    }
  },
  "nbformat": 4,
  "nbformat_minor": 0
}
