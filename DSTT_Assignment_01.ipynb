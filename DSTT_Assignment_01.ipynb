{
  "nbformat": 4,
  "nbformat_minor": 0,
  "metadata": {
    "colab": {
      "provenance": []
    },
    "kernelspec": {
      "name": "python3",
      "display_name": "Python 3"
    },
    "language_info": {
      "name": "python"
    }
  },
  "cells": [
    {
      "cell_type": "markdown",
      "source": [
        "Name: Sai Vinay M R\n",
        "\n",
        "Roll No: 22-27-02\n",
        "\n",
        "Assignment 01\n",
        "\n",
        "Data Science Tools and Techniques"
      ],
      "metadata": {
        "id": "NDv6QUotPZPn"
      }
    },
    {
      "cell_type": "markdown",
      "source": [
        "Question 01 : \n",
        "\n",
        "Given an array A of N numbers (int), WAP which prints the multiplication of the elements of array A with the corresponding elements of the reverse of array A. If A = [1,2,3], then reverse of A will be [3,2,1] and the result should be [3,4,3]. Input Format: The first line of the input contains a number N The second line of the input contains N numbers separated by a space. (after the last elements, there is no space) Output Format: Print the resultant array of elements separated by a space. (no space after the last element)"
      ],
      "metadata": {
        "id": "cE6IftRSP7Su"
      }
    },
    {
      "cell_type": "code",
      "source": [
        "def reverse_multiplier():\n",
        "    arr = []\n",
        "    size = int(input(\"Enter the number of elements in the list: \"))\n",
        "    for i in range(size):\n",
        "        j = int(input(f\"Enter the {i+1} element of list A: \"))\n",
        "        arr.append(j)\n",
        "    arr_rev = arr[::-1]\n",
        "    result = []\n",
        "    for i, j in zip(arr, arr_rev):\n",
        "        result.append(i*j)\n",
        "    print(*result)"
      ],
      "metadata": {
        "id": "cecy_mlrPtlv"
      },
      "execution_count": 1,
      "outputs": []
    },
    {
      "cell_type": "code",
      "source": [
        "reverse_multiplier()"
      ],
      "metadata": {
        "colab": {
          "base_uri": "https://localhost:8080/"
        },
        "id": "mKpbNs9jQHtz",
        "outputId": "3e8438d8-cb2a-4e14-95be-e17772e30ab5"
      },
      "execution_count": 2,
      "outputs": [
        {
          "output_type": "stream",
          "name": "stdout",
          "text": [
            "Enter the number of elements in the list: 4\n",
            "Enter the 1 element of list A: 1\n",
            "Enter the 2 element of list A: 2\n",
            "Enter the 3 element of list A: 3\n",
            "Enter the 4 element of list A: 4\n",
            "4 6 6 4\n"
          ]
        }
      ]
    },
    {
      "cell_type": "markdown",
      "source": [
        "Question 02 : \n",
        "\n",
        "Given a list of numbers (integers), find second maximum and second minimum in this list. Input Format: The first line contains numbers separated by a space. Output Format: Print the second maximum and second minimum separated by a space"
      ],
      "metadata": {
        "id": "NjPX0s7qQeX9"
      }
    },
    {
      "cell_type": "code",
      "source": [
        "def second_max_min(arr):\n",
        "    arr_copy = arr.copy()\n",
        "    arr_copy.pop(arr_copy.index(max(arr_copy)))\n",
        "    arr_copy.pop(arr_copy.index(min(arr_copy)))\n",
        "    second_min_val = min(arr_copy)\n",
        "    second_max_val = max(arr_copy)\n",
        "    print(second_max_val,second_min_val)"
      ],
      "metadata": {
        "id": "qifVQsbjQUDl"
      },
      "execution_count": 3,
      "outputs": []
    },
    {
      "cell_type": "code",
      "source": [
        "arr = [1,2,3,4,5]\n",
        "second_max_min(arr)"
      ],
      "metadata": {
        "colab": {
          "base_uri": "https://localhost:8080/"
        },
        "id": "1lN7RvxDQh_r",
        "outputId": "e6bfb8a4-13db-4557-c9b1-a772128c99cc"
      },
      "execution_count": 20,
      "outputs": [
        {
          "output_type": "stream",
          "name": "stdout",
          "text": [
            "4 2\n"
          ]
        }
      ]
    },
    {
      "cell_type": "markdown",
      "source": [
        "Question 03: \n",
        "\n",
        "Given a list A of numbers (integers), you have to print those numbers which are not multiples of 5. Input Format: The first line contains the numbers of list A separated by a space. Output Format: Print the numbers in a single line separated by a space which are not multiples of 5. Example: Input: 1 2 3 4 5 6 5 Output: 1 2 3 4 6 Explanation: Here the elements of A are 1,2,3,4,5,6,5 and since 5 is the multiple of 5, after removing them the list becomes 1,2,3,4,6."
      ],
      "metadata": {
        "id": "G-d3uczVQpAf"
      }
    },
    {
      "cell_type": "code",
      "source": [
        "def not_5_multiples(arr):\n",
        "    not_5 = []\n",
        "    for i in arr:\n",
        "        if i%5 != 0:\n",
        "            not_5.append(i)\n",
        "    for i in not_5:\n",
        "        print(i,end=' ')"
      ],
      "metadata": {
        "id": "ICkUnVwbQl2e"
      },
      "execution_count": 5,
      "outputs": []
    },
    {
      "cell_type": "code",
      "source": [
        "arr = [1,2,3,5,10,11,15,20,5,3]\n",
        "not_5_multiples(arr)"
      ],
      "metadata": {
        "colab": {
          "base_uri": "https://localhost:8080/"
        },
        "id": "ar8vAQpKQ1XW",
        "outputId": "985053f5-d570-4200-a38c-3e6e9a830d3a"
      },
      "execution_count": 6,
      "outputs": [
        {
          "output_type": "stream",
          "name": "stdout",
          "text": [
            "1 2 3 11 3 "
          ]
        }
      ]
    },
    {
      "cell_type": "markdown",
      "source": [
        "Question 4 :\n",
        "\n",
        "You are given a number A which contains only digits 0’s and 1’s. Your task is to make all digits same by just flipping one digit (i.e. 0 to 1 or 1 to 0 ) only. If it is possible to make all the digits same by just flipping one digit then print ’YES’ else print ’NO’. Input Format: The first line contains a number made up of 0’s and 1’s. Output Format: Print ’YES’ or ’NO’ accordingly without quotes. Example: Input: 101 Output: YES Explanation: If you flip the middle digit from 0 to 1 then all the digits will become same. Hence output is YES."
      ],
      "metadata": {
        "id": "IdoKcKTkQ_Dx"
      }
    },
    {
      "cell_type": "code",
      "source": [
        "def can_flip(num):\n",
        "    digi = []\n",
        "    for i in str(num):\n",
        "        digi.append(int(i))\n",
        "    count_0 = 0\n",
        "    count_1 = 0\n",
        "    for i in digi:\n",
        "        if i == 0:\n",
        "            count_0 += 1\n",
        "        if i == 1:\n",
        "            count_1 += 1\n",
        "    if count_0 == 1 or count_1 == 1:\n",
        "        print('Yes')\n",
        "    else:\n",
        "        print('No')"
      ],
      "metadata": {
        "id": "_G6N8dyuQ6XA"
      },
      "execution_count": 7,
      "outputs": []
    },
    {
      "cell_type": "code",
      "source": [
        "num = 11101\n",
        "can_flip(num)"
      ],
      "metadata": {
        "colab": {
          "base_uri": "https://localhost:8080/"
        },
        "id": "0cPLTR_oRCmR",
        "outputId": "1b3910e3-957a-4a6b-8021-94c144f3f99c"
      },
      "execution_count": 9,
      "outputs": [
        {
          "output_type": "stream",
          "name": "stdout",
          "text": [
            "Yes\n"
          ]
        }
      ]
    },
    {
      "cell_type": "markdown",
      "source": [
        "Question 5 :\n",
        "\n",
        "Given an integer number n, you have to print the factorial of this number. Input Format: A number n. Output Format: Print the factorial of n. Example: Input: 4 Output: 24"
      ],
      "metadata": {
        "id": "c6gg_CBeRRgZ"
      }
    },
    {
      "cell_type": "code",
      "source": [
        "def factorial(num):\n",
        "    if num == 1 or num == 0:\n",
        "        return 1\n",
        "    return num *factorial(num - 1)"
      ],
      "metadata": {
        "id": "c4Acn6YzRE0P"
      },
      "execution_count": 15,
      "outputs": []
    },
    {
      "cell_type": "code",
      "source": [
        "factorial(4)"
      ],
      "metadata": {
        "colab": {
          "base_uri": "https://localhost:8080/"
        },
        "id": "3_Ny7RWLRURZ",
        "outputId": "8f0cb271-0ef1-49f9-bbad-e91d0e44cd4e"
      },
      "execution_count": 16,
      "outputs": [
        {
          "output_type": "execute_result",
          "data": {
            "text/plain": [
              "24"
            ]
          },
          "metadata": {},
          "execution_count": 16
        }
      ]
    },
    {
      "cell_type": "markdown",
      "source": [
        "Question 6\n",
        "\n",
        "Write a program, which will find all such numbers between m and n (both included) such that each digit of the number is an even number. Input Format: The first line contains value m and n separated by a comma. Output Format: The numbers obtained should be printed in a comma-separated sequence on a single line. Constraints: 1000<=m<=9000 1000<=n<=9000"
      ],
      "metadata": {
        "id": "xLGfyRacRXXv"
      }
    },
    {
      "cell_type": "code",
      "source": [
        "def find_even(m,n):\n",
        "    even_num = []\n",
        "    \n",
        "    for i in range(m,n+1):\n",
        "        if i%2 == 0:\n",
        "            flag = 0\n",
        "            all_even = []\n",
        "            for j in str(i):\n",
        "                all_even.append(int(j))\n",
        "            for k in all_even:\n",
        "                if k%2 != 0:\n",
        "                    flag = 1\n",
        "                    break\n",
        "            if flag == 0:\n",
        "                even_num.append(i)\n",
        "    print(*even_num)"
      ],
      "metadata": {
        "id": "EDAaaIxnRVf3"
      },
      "execution_count": 18,
      "outputs": []
    },
    {
      "cell_type": "code",
      "source": [
        " find_even(100,500)"
      ],
      "metadata": {
        "colab": {
          "base_uri": "https://localhost:8080/"
        },
        "id": "ErnwGcZDRaIL",
        "outputId": "a33b6e22-5385-49f7-9e72-5223289c6d4f"
      },
      "execution_count": 19,
      "outputs": [
        {
          "output_type": "stream",
          "name": "stdout",
          "text": [
            "200 202 204 206 208 220 222 224 226 228 240 242 244 246 248 260 262 264 266 268 280 282 284 286 288 400 402 404 406 408 420 422 424 426 428 440 442 444 446 448 460 462 464 466 468 480 482 484 486 488\n"
          ]
        }
      ]
    },
    {
      "cell_type": "code",
      "source": [],
      "metadata": {
        "id": "Dz31hnsLRdS0"
      },
      "execution_count": null,
      "outputs": []
    }
  ]
}